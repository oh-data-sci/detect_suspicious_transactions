{
 "cells": [
  {
   "cell_type": "code",
   "execution_count": 17,
   "metadata": {},
   "outputs": [],
   "source": [
    "import numpy as np\n",
    "import pandas as pd\n",
    "import pickle\n",
    "from sklearn.ensemble import RandomForestClassifier, ExtraTreesClassifier\n",
    "from sklearn.metrics import f1_score, accuracy_score, classification_report, confusion_matrix, plot_precision_recall_curve\n",
    "from sklearn.model_selection import train_test_split, cross_val_score, RandomizedSearchCV\n",
    "# from sklearn.linear_model import LogisticRegression\n",
    "from sklearn.preprocessing import OneHotEncoder, StandardScaler\n",
    "from sklearn.pipeline import Pipeline, make_pipeline\n"
   ]
  },
  {
   "cell_type": "markdown",
   "metadata": {},
   "source": [
    "# modelling\n",
    "- split clean data into train/validate and test (holdout) data sets. \n",
    "- scale, encode, prep training data for machine learning\n",
    "- evaluate against validation data"
   ]
  },
  {
   "cell_type": "code",
   "execution_count": 2,
   "metadata": {},
   "outputs": [
    {
     "data": {
      "text/html": [
       "<div>\n",
       "<style scoped>\n",
       "    .dataframe tbody tr th:only-of-type {\n",
       "        vertical-align: middle;\n",
       "    }\n",
       "\n",
       "    .dataframe tbody tr th {\n",
       "        vertical-align: top;\n",
       "    }\n",
       "\n",
       "    .dataframe thead th {\n",
       "        text-align: right;\n",
       "    }\n",
       "</style>\n",
       "<table border=\"1\" class=\"dataframe\">\n",
       "  <thead>\n",
       "    <tr style=\"text-align: right;\">\n",
       "      <th></th>\n",
       "      <th>Source System</th>\n",
       "      <th>CountryCodeOffice</th>\n",
       "      <th>ML Risk Rating</th>\n",
       "      <th>Flag</th>\n",
       "      <th>product_type</th>\n",
       "      <th>date</th>\n",
       "      <th>month</th>\n",
       "      <th>is_month_start</th>\n",
       "      <th>is_month_end</th>\n",
       "      <th>weekday</th>\n",
       "      <th>quarter</th>\n",
       "      <th>gbp_log_amount</th>\n",
       "      <th>currency_reduced</th>\n",
       "      <th>suspicious_client</th>\n",
       "      <th>trusted_client</th>\n",
       "      <th>client_name</th>\n",
       "      <th>new_client</th>\n",
       "      <th>frequent_client</th>\n",
       "    </tr>\n",
       "    <tr>\n",
       "      <th>index</th>\n",
       "      <th></th>\n",
       "      <th></th>\n",
       "      <th></th>\n",
       "      <th></th>\n",
       "      <th></th>\n",
       "      <th></th>\n",
       "      <th></th>\n",
       "      <th></th>\n",
       "      <th></th>\n",
       "      <th></th>\n",
       "      <th></th>\n",
       "      <th></th>\n",
       "      <th></th>\n",
       "      <th></th>\n",
       "      <th></th>\n",
       "      <th></th>\n",
       "      <th></th>\n",
       "      <th></th>\n",
       "    </tr>\n",
       "  </thead>\n",
       "  <tbody>\n",
       "    <tr>\n",
       "      <th>7689</th>\n",
       "      <td>alpha</td>\n",
       "      <td>GB</td>\n",
       "      <td>H</td>\n",
       "      <td>1</td>\n",
       "      <td>fx_spots</td>\n",
       "      <td>2019-02-26</td>\n",
       "      <td>2</td>\n",
       "      <td>False</td>\n",
       "      <td>False</td>\n",
       "      <td>1</td>\n",
       "      <td>1</td>\n",
       "      <td>3.198872</td>\n",
       "      <td>USD</td>\n",
       "      <td>False</td>\n",
       "      <td>True</td>\n",
       "      <td>Client_20</td>\n",
       "      <td>False</td>\n",
       "      <td>True</td>\n",
       "    </tr>\n",
       "    <tr>\n",
       "      <th>25001</th>\n",
       "      <td>alpha</td>\n",
       "      <td>GB</td>\n",
       "      <td>L</td>\n",
       "      <td>0</td>\n",
       "      <td>fx_spots</td>\n",
       "      <td>2019-11-27</td>\n",
       "      <td>11</td>\n",
       "      <td>False</td>\n",
       "      <td>False</td>\n",
       "      <td>2</td>\n",
       "      <td>4</td>\n",
       "      <td>2.531620</td>\n",
       "      <td>EUR</td>\n",
       "      <td>False</td>\n",
       "      <td>True</td>\n",
       "      <td>Client_4</td>\n",
       "      <td>False</td>\n",
       "      <td>True</td>\n",
       "    </tr>\n",
       "    <tr>\n",
       "      <th>16629</th>\n",
       "      <td>alpha</td>\n",
       "      <td>GB</td>\n",
       "      <td>L</td>\n",
       "      <td>0</td>\n",
       "      <td>fx_forwards</td>\n",
       "      <td>2019-07-29</td>\n",
       "      <td>7</td>\n",
       "      <td>False</td>\n",
       "      <td>False</td>\n",
       "      <td>0</td>\n",
       "      <td>3</td>\n",
       "      <td>3.846849</td>\n",
       "      <td>USD</td>\n",
       "      <td>False</td>\n",
       "      <td>True</td>\n",
       "      <td>Client_104</td>\n",
       "      <td>False</td>\n",
       "      <td>True</td>\n",
       "    </tr>\n",
       "    <tr>\n",
       "      <th>22013</th>\n",
       "      <td>alpha</td>\n",
       "      <td>GB</td>\n",
       "      <td>L</td>\n",
       "      <td>0</td>\n",
       "      <td>fx_swaps</td>\n",
       "      <td>2019-10-14</td>\n",
       "      <td>10</td>\n",
       "      <td>False</td>\n",
       "      <td>False</td>\n",
       "      <td>0</td>\n",
       "      <td>4</td>\n",
       "      <td>5.166675</td>\n",
       "      <td>JPY</td>\n",
       "      <td>False</td>\n",
       "      <td>True</td>\n",
       "      <td>Client_96</td>\n",
       "      <td>False</td>\n",
       "      <td>True</td>\n",
       "    </tr>\n",
       "    <tr>\n",
       "      <th>8508</th>\n",
       "      <td>alpha</td>\n",
       "      <td>GB</td>\n",
       "      <td>L</td>\n",
       "      <td>0</td>\n",
       "      <td>fx_spots</td>\n",
       "      <td>2019-03-11</td>\n",
       "      <td>3</td>\n",
       "      <td>False</td>\n",
       "      <td>False</td>\n",
       "      <td>0</td>\n",
       "      <td>1</td>\n",
       "      <td>4.993812</td>\n",
       "      <td>EUR</td>\n",
       "      <td>False</td>\n",
       "      <td>True</td>\n",
       "      <td>Client_4</td>\n",
       "      <td>False</td>\n",
       "      <td>True</td>\n",
       "    </tr>\n",
       "  </tbody>\n",
       "</table>\n",
       "</div>"
      ],
      "text/plain": [
       "      Source System CountryCodeOffice ML Risk Rating  Flag product_type  \\\n",
       "index                                                                     \n",
       "7689          alpha                GB              H     1     fx_spots   \n",
       "25001         alpha                GB              L     0     fx_spots   \n",
       "16629         alpha                GB              L     0  fx_forwards   \n",
       "22013         alpha                GB              L     0     fx_swaps   \n",
       "8508          alpha                GB              L     0     fx_spots   \n",
       "\n",
       "            date  month  is_month_start  is_month_end  weekday  quarter  \\\n",
       "index                                                                     \n",
       "7689  2019-02-26      2           False         False        1        1   \n",
       "25001 2019-11-27     11           False         False        2        4   \n",
       "16629 2019-07-29      7           False         False        0        3   \n",
       "22013 2019-10-14     10           False         False        0        4   \n",
       "8508  2019-03-11      3           False         False        0        1   \n",
       "\n",
       "       gbp_log_amount currency_reduced  suspicious_client  trusted_client  \\\n",
       "index                                                                       \n",
       "7689         3.198872              USD              False            True   \n",
       "25001        2.531620              EUR              False            True   \n",
       "16629        3.846849              USD              False            True   \n",
       "22013        5.166675              JPY              False            True   \n",
       "8508         4.993812              EUR              False            True   \n",
       "\n",
       "      client_name  new_client  frequent_client  \n",
       "index                                           \n",
       "7689    Client_20       False             True  \n",
       "25001    Client_4       False             True  \n",
       "16629  Client_104       False             True  \n",
       "22013   Client_96       False             True  \n",
       "8508     Client_4       False             True  "
      ]
     },
     "execution_count": 2,
     "metadata": {},
     "output_type": "execute_result"
    }
   ],
   "source": [
    "transactions = pd.read_parquet('data/data_products/suspicious_transactions_dataset_201812-202001_cleaned.parquet')\n",
    "transactions.sample(5)"
   ]
  },
  {
   "cell_type": "code",
   "execution_count": 3,
   "metadata": {},
   "outputs": [],
   "source": [
    "feature_columns_catg = [\n",
    "    'Source System',\n",
    "    'CountryCodeOffice',\n",
    "    'ML Risk Rating',\n",
    "    'product_type',\n",
    "    'currency_reduced',\n",
    "]\n",
    "feature_columns_bool = [\n",
    "    'suspicious_client',\n",
    "    'trusted_client',\n",
    "    'new_client', \n",
    "    'frequent_client', \n",
    "    'is_month_start',\n",
    "    'is_month_end',\n",
    "]\n",
    "feature_column_cont = [\n",
    "    'month',\n",
    "    'weekday',\n",
    "    'quarter',\n",
    "    'gbp_log_amount'\n",
    "]\n",
    "outcome_column = 'Flag'\n",
    "\n",
    "\n",
    "# collect all values of categorical variables for the purpose of one hot encoding\n",
    "all_systems    = transactions['Source System'].unique()\n",
    "all_offices    = transactions['CountryCodeOffice'].unique()\n",
    "all_ratings    = transactions['ML Risk Rating'].unique()\n",
    "all_products   = transactions['product_type'].unique()\n",
    "all_currencies = transactions['currency_reduced'].unique()\n",
    "# all_clients    = transactions['client_name'].unique()\n",
    "# transactions['is_month_start'].unique()\n",
    "# transactions['is_month_end'].unique()\n",
    "# transactions['suspicious_client'].unique()\n",
    "# transactions['trusted_client'].unique()\n",
    "\n",
    "all_categories = [\n",
    "    all_systems,\n",
    "    all_offices,\n",
    "    all_ratings,\n",
    "    all_products,\n",
    "    all_currencies\n",
    "]"
   ]
  },
  {
   "cell_type": "markdown",
   "metadata": {},
   "source": [
    "## splitting data \n",
    "- need about 80% for train/validate, 20% holdout data (for performance gauging later)\n",
    "- need to ensure flagged records present in each group. \n",
    "    + start by splitting flagged records up\n",
    "    + split remaining records\n",
    "    + combine splits"
   ]
  },
  {
   "cell_type": "code",
   "execution_count": 4,
   "metadata": {},
   "outputs": [
    {
     "name": "stdout",
     "output_type": "stream",
     "text": [
      "(135, 18) (34, 18) (24092, 18) (6023, 18) (24227, 18) (6057, 18)\n"
     ]
    }
   ],
   "source": [
    "train_flag, test_flag = train_test_split(transactions[transactions['Flag']==1], test_size=0.2)\n",
    "train_safe, test_safe = train_test_split(transactions[transactions['Flag']==0], test_size=0.2)\n",
    "training_df = pd.concat([train_flag, train_safe]).sort_values(by='date')\n",
    "testing_df  = pd.concat([test_flag, test_safe]).sort_values(by='date')\n",
    "\n",
    "print(train_flag.shape, test_flag.shape, train_safe.shape, test_safe.shape, training_df.shape, testing_df.shape)"
   ]
  },
  {
   "cell_type": "code",
   "execution_count": 5,
   "metadata": {},
   "outputs": [],
   "source": [
    "# holdout data goes on ice:\n",
    "testing_df.to_parquet('data/performance/holdout_data.parquet')"
   ]
  },
  {
   "cell_type": "markdown",
   "metadata": {},
   "source": [
    "the \"training\" data needs to be further split into training and validation data. "
   ]
  },
  {
   "cell_type": "code",
   "execution_count": 6,
   "metadata": {},
   "outputs": [
    {
     "name": "stdout",
     "output_type": "stream",
     "text": [
      "(108, 18) (27, 18) (19273, 18) (4819, 18) (19381, 18) (4846, 18)\n"
     ]
    }
   ],
   "source": [
    "train_flag, valid_flag = train_test_split(training_df[training_df['Flag']==1], test_size=0.2)\n",
    "train_safe, valid_safe = train_test_split(training_df[training_df['Flag']==0], test_size=0.2)\n",
    "training_df    = pd.concat([train_flag, train_safe]).sort_values(by='date')\n",
    "validation_df  = pd.concat([valid_flag, valid_safe]).sort_values(by='date')\n",
    "print(train_flag.shape, valid_flag.shape, train_safe.shape, valid_safe.shape, training_df.shape, validation_df.shape)"
   ]
  },
  {
   "cell_type": "code",
   "execution_count": 7,
   "metadata": {},
   "outputs": [
    {
     "data": {
      "text/plain": [
       "(19381, 5)"
      ]
     },
     "execution_count": 7,
     "metadata": {},
     "output_type": "execute_result"
    }
   ],
   "source": [
    "training_df[feature_columns_catg].shape"
   ]
  },
  {
   "cell_type": "code",
   "execution_count": 8,
   "metadata": {},
   "outputs": [],
   "source": [
    "# categorical\n",
    "encoder_catg = OneHotEncoder(categories=all_categories)\n",
    "encoder_catg.fit(training_df[feature_columns_catg])\n",
    "X_catg_train = encoder_catg.transform(training_df[feature_columns_catg]).toarray()"
   ]
  },
  {
   "cell_type": "code",
   "execution_count": 9,
   "metadata": {},
   "outputs": [],
   "source": [
    "# continuous variable encoding\n",
    "encoder_cont = StandardScaler().fit(training_df[feature_column_cont])\n",
    "X_cont_train = encoder_cont.transform(np.array(training_df[feature_column_cont]))\n"
   ]
  },
  {
   "cell_type": "code",
   "execution_count": 10,
   "metadata": {},
   "outputs": [],
   "source": [
    "X_train = np.concatenate([X_catg_train[:],X_cont_train[:],training_df[feature_columns_bool]], axis=1)\n",
    "y_train = training_df[outcome_column]\n",
    "# classifier = RandomForestClassifier(criterion='entropy', n_jobs=-1, n_estimators=200, min_samples_leaf=1, max_features='auto')\n",
    "classifier = ExtraTreesClassifier(criterion='entropy', n_jobs=-1, n_estimators=200, min_samples_leaf=1,  max_features='auto', oob_score=True)\n",
    "# classifier = RandomForestClassifier(criterion='gini', n_jobs=-1, n_estimators=200, min_samples_leaf=1, max_features='auto')\n",
    "classifier = classifier.fit(X_train, y_train)\n",
    "# classifier.predict()\n"
   ]
  },
  {
   "cell_type": "code",
   "execution_count": 11,
   "metadata": {},
   "outputs": [],
   "source": [
    "X_catg_valid = encoder_catg.transform(validation_df[feature_columns_catg]).toarray()\n",
    "X_cont_valid = encoder_cont.transform(np.array(validation_df[feature_column_cont]))\n",
    "X_valid = np.concatenate([X_catg_valid[:],X_cont_valid[:],validation_df[feature_columns_bool]], axis=1)\n",
    "y_valid = validation_df[outcome_column]"
   ]
  },
  {
   "cell_type": "code",
   "execution_count": 12,
   "metadata": {},
   "outputs": [
    {
     "data": {
      "text/plain": [
       "array([[4811,    8],\n",
       "       [  19,    8]])"
      ]
     },
     "execution_count": 12,
     "metadata": {},
     "output_type": "execute_result"
    }
   ],
   "source": [
    "confusion_matrix(y_valid, classifier.predict(X_valid))"
   ]
  },
  {
   "cell_type": "markdown",
   "metadata": {},
   "source": [
    "way too many false negatives."
   ]
  },
  {
   "cell_type": "code",
   "execution_count": 13,
   "metadata": {},
   "outputs": [
    {
     "data": {
      "text/plain": [
       "array([[0.9983399, 0.0016601],\n",
       "       [0.7037037, 0.2962963]])"
      ]
     },
     "execution_count": 13,
     "metadata": {},
     "output_type": "execute_result"
    }
   ],
   "source": [
    "confusion_matrix(y_valid, classifier.predict(X_valid), normalize='true')"
   ]
  },
  {
   "cell_type": "code",
   "execution_count": 14,
   "metadata": {},
   "outputs": [],
   "source": [
    "pipe = Pipeline([\n",
    "    ('encoder', encoder_catg),\n",
    "    ('classif', RandomForestClassifier(       \n",
    "            n_estimators=200,\n",
    "            min_samples_leaf=1,\n",
    "            \n",
    "    )\n",
    "    )\n",
    "])"
   ]
  },
  {
   "cell_type": "code",
   "execution_count": 19,
   "metadata": {},
   "outputs": [
    {
     "name": "stdout",
     "output_type": "stream",
     "text": [
      "[0.99303944 0.98839009 0.9876161  0.98916409 0.99148607 0.99380805\n",
      " 0.99148607 0.99767802 0.99458204 0.99767802 0.99613003 0.99226006\n",
      " 0.99380805 0.9876161  0.98297214] 0.9918476243837381\n",
      "f1: 0.61 (+/- 0.28)\n"
     ]
    }
   ],
   "source": [
    "scores = cross_val_score(classifier, X_train, y_train, cv=15)\n",
    "print(scores, scores.mean())\n",
    "scores = cross_val_score(classifier, X_train, y_train, cv=15, scoring='f1_macro')\n",
    "print(\"f1: %0.2f (+/- %0.2f)\" % (scores.mean(), scores.std() * 2))"
   ]
  },
  {
   "cell_type": "code",
   "execution_count": 16,
   "metadata": {},
   "outputs": [],
   "source": [
    "pickle.dump(encoder_catg, open('model/encoder_catg.pckl', 'wb'))\n",
    "pickle.dump(encoder_cont, open('model/encoder_cont.pckl', 'wb'))\n",
    "pickle.dump(classifier,   open('model/random_forest_clf.pckl', 'wb'))"
   ]
  },
  {
   "cell_type": "code",
   "execution_count": null,
   "metadata": {},
   "outputs": [],
   "source": [
    "RandomizedSearchCV(classifier,)"
   ]
  }
 ],
 "metadata": {
  "kernelspec": {
   "display_name": "Python 3",
   "language": "python",
   "name": "python3"
  },
  "language_info": {
   "codemirror_mode": {
    "name": "ipython",
    "version": 3
   },
   "file_extension": ".py",
   "mimetype": "text/x-python",
   "name": "python",
   "nbconvert_exporter": "python",
   "pygments_lexer": "ipython3",
   "version": "3.8.5"
  }
 },
 "nbformat": 4,
 "nbformat_minor": 4
}
