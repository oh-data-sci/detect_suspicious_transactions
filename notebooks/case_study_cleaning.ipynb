{
 "cells": [
  {
   "cell_type": "markdown",
   "metadata": {},
   "source": [
    "# cleaning and feature engineering\n",
    "1. impute values in Product name column and build new features\n",
    "2. drop useless columns and rows\n",
    "2. collapse product identifier, currency to more meaningful and less imbalanced fields\n",
    "3. new field: client score? (based on how many flagged previous transactions a client has had\n",
    "4. transform trade amount to log, consider using percentiles.\n",
    "5. lump together less frequent currencies.\n",
    "6. one hot encoding."
   ]
  },
  {
   "cell_type": "code",
   "execution_count": 1,
   "metadata": {},
   "outputs": [],
   "source": [
    "from src.eda import check_for_nulls\n",
    "\n",
    "import matplotlib.pyplot as plt\n",
    "import numpy as np\n",
    "import pandas as pd\n",
    "from statsmodels.graphics.mosaicplot import mosaic\n",
    "# from tqdm import tqdm_notebook\n",
    "%matplotlib inline  \n",
    "plt.rcParams['font.size'] = 16.0\n",
    "plt.rcParams['figure.figsize'] = (17.0, 6.0)"
   ]
  },
  {
   "cell_type": "code",
   "execution_count": 2,
   "metadata": {},
   "outputs": [
    {
     "data": {
      "text/html": [
       "<div>\n",
       "<style scoped>\n",
       "    .dataframe tbody tr th:only-of-type {\n",
       "        vertical-align: middle;\n",
       "    }\n",
       "\n",
       "    .dataframe tbody tr th {\n",
       "        vertical-align: top;\n",
       "    }\n",
       "\n",
       "    .dataframe thead th {\n",
       "        text-align: right;\n",
       "    }\n",
       "</style>\n",
       "<table border=\"1\" class=\"dataframe\">\n",
       "  <thead>\n",
       "    <tr style=\"text-align: right;\">\n",
       "      <th></th>\n",
       "      <th>Source System</th>\n",
       "      <th>Leg Type</th>\n",
       "      <th>Trade Date</th>\n",
       "      <th>Product Name</th>\n",
       "      <th>Product Group</th>\n",
       "      <th>Notional Amount Currency</th>\n",
       "      <th>CountryCodeOffice</th>\n",
       "      <th>ML Risk Rating</th>\n",
       "      <th>Client Name</th>\n",
       "      <th>Notional Amount</th>\n",
       "      <th>Gbp Notional Amount</th>\n",
       "      <th>Fx_rate</th>\n",
       "      <th>Flag</th>\n",
       "    </tr>\n",
       "  </thead>\n",
       "  <tbody>\n",
       "    <tr>\n",
       "      <th>0</th>\n",
       "      <td>alpha</td>\n",
       "      <td>CASH</td>\n",
       "      <td>03/12/2018</td>\n",
       "      <td>FX Options</td>\n",
       "      <td>FX DERIV</td>\n",
       "      <td>USD</td>\n",
       "      <td>GB</td>\n",
       "      <td>M</td>\n",
       "      <td>Client_43</td>\n",
       "      <td>202800.0</td>\n",
       "      <td>1.707783e+05</td>\n",
       "      <td>0.842102</td>\n",
       "      <td>0</td>\n",
       "    </tr>\n",
       "    <tr>\n",
       "      <th>1</th>\n",
       "      <td>alpha</td>\n",
       "      <td>CASH</td>\n",
       "      <td>03/12/2018</td>\n",
       "      <td>FX Spots</td>\n",
       "      <td>FX TRADES</td>\n",
       "      <td>HKD</td>\n",
       "      <td>GB</td>\n",
       "      <td>L</td>\n",
       "      <td>Client_29</td>\n",
       "      <td>31570000.0</td>\n",
       "      <td>3.128810e+06</td>\n",
       "      <td>0.099107</td>\n",
       "      <td>0</td>\n",
       "    </tr>\n",
       "    <tr>\n",
       "      <th>2</th>\n",
       "      <td>alpha</td>\n",
       "      <td>CASH</td>\n",
       "      <td>03/12/2018</td>\n",
       "      <td>FX Forwards</td>\n",
       "      <td>FX TRADES</td>\n",
       "      <td>EUR</td>\n",
       "      <td>GB</td>\n",
       "      <td>M</td>\n",
       "      <td>Client_42</td>\n",
       "      <td>917400.0</td>\n",
       "      <td>8.186487e+05</td>\n",
       "      <td>0.892357</td>\n",
       "      <td>0</td>\n",
       "    </tr>\n",
       "    <tr>\n",
       "      <th>3</th>\n",
       "      <td>alpha</td>\n",
       "      <td>CASH</td>\n",
       "      <td>03/12/2018</td>\n",
       "      <td>FX Forwards</td>\n",
       "      <td>FX TRADES</td>\n",
       "      <td>USD</td>\n",
       "      <td>GB</td>\n",
       "      <td>L</td>\n",
       "      <td>Client_51</td>\n",
       "      <td>85800.0</td>\n",
       "      <td>7.225234e+04</td>\n",
       "      <td>0.842102</td>\n",
       "      <td>0</td>\n",
       "    </tr>\n",
       "    <tr>\n",
       "      <th>4</th>\n",
       "      <td>alpha</td>\n",
       "      <td>CASH</td>\n",
       "      <td>03/12/2018</td>\n",
       "      <td>FX Forwards</td>\n",
       "      <td>FX TRADES</td>\n",
       "      <td>USD</td>\n",
       "      <td>GB</td>\n",
       "      <td>M</td>\n",
       "      <td>Client_51</td>\n",
       "      <td>110000.0</td>\n",
       "      <td>8.554188e+04</td>\n",
       "      <td>0.777653</td>\n",
       "      <td>0</td>\n",
       "    </tr>\n",
       "  </tbody>\n",
       "</table>\n",
       "</div>"
      ],
      "text/plain": [
       "  Source System Leg Type  Trade Date Product Name Product Group  \\\n",
       "0         alpha     CASH  03/12/2018   FX Options      FX DERIV   \n",
       "1         alpha     CASH  03/12/2018     FX Spots     FX TRADES   \n",
       "2         alpha     CASH  03/12/2018  FX Forwards     FX TRADES   \n",
       "3         alpha     CASH  03/12/2018  FX Forwards     FX TRADES   \n",
       "4         alpha     CASH  03/12/2018  FX Forwards     FX TRADES   \n",
       "\n",
       "  Notional Amount Currency CountryCodeOffice ML Risk Rating Client Name  \\\n",
       "0                      USD                GB              M   Client_43   \n",
       "1                      HKD                GB              L   Client_29   \n",
       "2                      EUR                GB              M   Client_42   \n",
       "3                      USD                GB              L   Client_51   \n",
       "4                      USD                GB              M   Client_51   \n",
       "\n",
       "   Notional Amount  Gbp Notional Amount   Fx_rate  Flag  \n",
       "0         202800.0         1.707783e+05  0.842102     0  \n",
       "1       31570000.0         3.128810e+06  0.099107     0  \n",
       "2         917400.0         8.186487e+05  0.892357     0  \n",
       "3          85800.0         7.225234e+04  0.842102     0  \n",
       "4         110000.0         8.554188e+04  0.777653     0  "
      ]
     },
     "metadata": {},
     "output_type": "display_data"
    }
   ],
   "source": [
    "transactions = pd.read_csv('data/raw/suspicious_transactions_dataset_201812-202001.csv')\n",
    "display(transactions.head())"
   ]
  },
  {
   "cell_type": "markdown",
   "metadata": {},
   "source": [
    "## 1. impute and augment the data"
   ]
  },
  {
   "cell_type": "code",
   "execution_count": 3,
   "metadata": {},
   "outputs": [],
   "source": [
    "# impute missing values of product group, given that the product name uniformly maps to product group.\n",
    "product_name_to_group = {\n",
    "    'CRS-Vanilla'          : 'CIRS',\n",
    "    'Deal Related Payment' : 'Miscellaneous Payments',\n",
    "    'FX Forwards'          : 'FX TRADES',\n",
    "    'FX NDFs'              : 'FX TRADES',    \n",
    "    'FX Options'           : 'FX DERIV',\n",
    "    'FX Spots'             : 'FX TRADES',\n",
    "    'FX Swaps'             : 'FX TRADES',\n",
    "    'IRS-ON Index Swap'    : 'IRS',\n",
    "    'IRS-Vanilla'          : 'IRS',\n",
    "    'Swaptions'            : 'Swaptions',\n",
    "}\n",
    "for key in product_name_to_group:\n",
    "    transactions.loc[\n",
    "        (transactions['Product Group'].isna()) \n",
    "        & (transactions['Product Name'] == key), 'Product Group'] = product_name_to_group.get(key)"
   ]
  },
  {
   "cell_type": "code",
   "execution_count": 4,
   "metadata": {},
   "outputs": [],
   "source": [
    "# map from 'Product Name' to new categorization variable: \"product_type\".\n",
    "product_name_to_product_type = \\\n",
    "{\n",
    "    'CRS-Vanilla'          : 'other',\n",
    "    'Deal Related Payment' : 'other',\n",
    "    'FX Forwards'          : 'fx_forwards',\n",
    "    'FX NDFs'              : 'fx_other',    \n",
    "    'FX Options'           : 'fx_other',\n",
    "    'FX Spots'             : 'fx_spots',\n",
    "    'FX Swaps'             : 'fx_swaps',\n",
    "    'IRS-ON Index Swap'    : 'irs',\n",
    "    'IRS-Vanilla'          : 'irs',\n",
    "    'Swaptions'            : 'other',\n",
    "}\n",
    "temp_df = pd.DataFrame({'product_name':product_name_to_product_type.keys(), \n",
    "                        'product_type': product_name_to_product_type.values()})\n",
    "transactions = pd.merge(transactions, temp_df, left_on='Product Name', right_on='product_name', how='left')"
   ]
  },
  {
   "cell_type": "code",
   "execution_count": 5,
   "metadata": {},
   "outputs": [
    {
     "name": "stdout",
     "output_type": "stream",
     "text": [
      "there are 0 nonsensical date strings\n"
     ]
    },
    {
     "data": {
      "text/plain": [
       "count          30477\n",
       "unique           299\n",
       "top       12/12/2019\n",
       "freq             260\n",
       "Name: Trade Date, dtype: object"
      ]
     },
     "metadata": {},
     "output_type": "display_data"
    },
    {
     "data": {
      "text/plain": [
       "count                            30477\n",
       "mean     2019-06-28 02:44:11.363323392\n",
       "min                2018-12-03 00:00:00\n",
       "25%                2019-02-26 00:00:00\n",
       "50%                2019-07-04 00:00:00\n",
       "75%                2019-10-22 00:00:00\n",
       "max                2020-01-31 00:00:00\n",
       "Name: date, dtype: object"
      ]
     },
     "metadata": {},
     "output_type": "display_data"
    }
   ],
   "source": [
    "# augment the date column:\n",
    "transactions['date'] = pd.to_datetime(transactions['Trade Date'], format='%d/%m/%Y')\n",
    "print('there are', sum(transactions['date'].isnull()), 'nonsensical date strings')\n",
    "display(transactions['Trade Date'].describe())\n",
    "display(transactions['date'].describe(datetime_is_numeric=True))\n",
    "transactions['month'] = transactions['date'].dt.month\n",
    "transactions['is_month_start'] = transactions['date'].dt.is_month_start\n",
    "transactions['is_month_end'] = transactions['date'].dt.is_month_end\n",
    "transactions['weekday'] = transactions['date'].dt.weekday\n",
    "transactions['quarter'] = transactions['date'].dt.quarter"
   ]
  },
  {
   "cell_type": "markdown",
   "metadata": {},
   "source": [
    "## 2. drop useless data\n",
    "### drop columns that cannot help:\n",
    "- 'Leg Type': only one value\n",
    "- 'Notional Amount': not comparable between records due to different currency, and superceded by 'gbp notional amount'\n",
    "- 'Fx_rate': not relevant to the signal (whether or trade is suspicious)\n",
    "- 'Procuct Name' and 'Product Group' have been superceded by 'product_type'.\n",
    "- 'Trade Date' has been superceded by 'date' and more."
   ]
  },
  {
   "cell_type": "code",
   "execution_count": 6,
   "metadata": {},
   "outputs": [
    {
     "data": {
      "text/plain": [
       "Index(['Source System', 'Leg Type', 'Trade Date', 'Product Name',\n",
       "       'Product Group', 'Notional Amount Currency', 'CountryCodeOffice',\n",
       "       'ML Risk Rating', 'Client Name', 'Notional Amount',\n",
       "       'Gbp Notional Amount', 'Fx_rate', 'Flag', 'product_name',\n",
       "       'product_type', 'date', 'month', 'is_month_start', 'is_month_end',\n",
       "       'weekday', 'quarter'],\n",
       "      dtype='object')"
      ]
     },
     "execution_count": 6,
     "metadata": {},
     "output_type": "execute_result"
    }
   ],
   "source": [
    "transactions.columns"
   ]
  },
  {
   "cell_type": "code",
   "execution_count": 7,
   "metadata": {},
   "outputs": [],
   "source": [
    "# first, drop useless column. this must be done first because we do not care about missing records in these\n",
    "useless = ['Leg Type', 'Notional Amount', 'Fx_rate', 'Product Name', 'Product Group', 'Trade Date', 'product_name']\n",
    "transactions.drop(columns=useless, inplace=True)"
   ]
  },
  {
   "cell_type": "markdown",
   "metadata": {},
   "source": [
    "### drop incomplete records as they are suspicious:\n",
    "- flag all records with missing values as 'suspicious' (in the sense \"requiring consideration\"). \n",
    "- it is not unreasonable to expect the information to be present for all transactions. these fields aren't optional. \n",
    "- think about why information is missing from a record? is it because it was entered by hand? or joined from a corrupt data source? shouldn't the input be sanitised somewhere upstream?\n",
    "- whether as an indicator of fraud or failure, records missing values should get flagged for *further consideration*."
   ]
  },
  {
   "cell_type": "code",
   "execution_count": 8,
   "metadata": {},
   "outputs": [
    {
     "name": "stdout",
     "output_type": "stream",
     "text": [
      "wrote (189, 14) table of incomplete records to file.\n"
     ]
    }
   ],
   "source": [
    "# for the rest of the fields, demand that each record is complete. \n",
    "# first save incomplete records to file, to report them as requiring further attention\n",
    "incomplete_records = transactions[transactions.isnull().any(axis=1)]\n",
    "incomplete_records.to_csv('data/suspicious_records/contain_nulls.csv')\n",
    "print('wrote', incomplete_records.shape, 'table of incomplete records to file.')\n",
    "# now drop them\n",
    "transactions.dropna(axis=0, inplace=True)"
   ]
  },
  {
   "cell_type": "markdown",
   "metadata": {},
   "source": [
    "### drop missing value transactions:\n",
    "- highly dubious.\n",
    "- if value of the trade is missing or zero, how can we say that a trade took place? \n",
    "- report these records for further consideration as well.\n",
    "- drop them for purposes of machine learning the pattern of suspicious records.\n"
   ]
  },
  {
   "cell_type": "code",
   "execution_count": 20,
   "metadata": {},
   "outputs": [
    {
     "ename": "KeyError",
     "evalue": "'Gbp Notional Amount'",
     "output_type": "error",
     "traceback": [
      "\u001b[0;31m---------------------------------------------------------------------------\u001b[0m",
      "\u001b[0;31mKeyError\u001b[0m                                  Traceback (most recent call last)",
      "\u001b[0;32m~/.local/share/virtualenvs/assessment-yOBSkz2T/lib/python3.8/site-packages/pandas/core/indexes/base.py\u001b[0m in \u001b[0;36mget_loc\u001b[0;34m(self, key, method, tolerance)\u001b[0m\n\u001b[1;32m   2890\u001b[0m             \u001b[0;32mtry\u001b[0m\u001b[0;34m:\u001b[0m\u001b[0;34m\u001b[0m\u001b[0;34m\u001b[0m\u001b[0m\n\u001b[0;32m-> 2891\u001b[0;31m                 \u001b[0;32mreturn\u001b[0m \u001b[0mself\u001b[0m\u001b[0;34m.\u001b[0m\u001b[0m_engine\u001b[0m\u001b[0;34m.\u001b[0m\u001b[0mget_loc\u001b[0m\u001b[0;34m(\u001b[0m\u001b[0mcasted_key\u001b[0m\u001b[0;34m)\u001b[0m\u001b[0;34m\u001b[0m\u001b[0;34m\u001b[0m\u001b[0m\n\u001b[0m\u001b[1;32m   2892\u001b[0m             \u001b[0;32mexcept\u001b[0m \u001b[0mKeyError\u001b[0m \u001b[0;32mas\u001b[0m \u001b[0merr\u001b[0m\u001b[0;34m:\u001b[0m\u001b[0;34m\u001b[0m\u001b[0;34m\u001b[0m\u001b[0m\n",
      "\u001b[0;32mpandas/_libs/index.pyx\u001b[0m in \u001b[0;36mpandas._libs.index.IndexEngine.get_loc\u001b[0;34m()\u001b[0m\n",
      "\u001b[0;32mpandas/_libs/index.pyx\u001b[0m in \u001b[0;36mpandas._libs.index.IndexEngine.get_loc\u001b[0;34m()\u001b[0m\n",
      "\u001b[0;32mpandas/_libs/hashtable_class_helper.pxi\u001b[0m in \u001b[0;36mpandas._libs.hashtable.PyObjectHashTable.get_item\u001b[0;34m()\u001b[0m\n",
      "\u001b[0;32mpandas/_libs/hashtable_class_helper.pxi\u001b[0m in \u001b[0;36mpandas._libs.hashtable.PyObjectHashTable.get_item\u001b[0;34m()\u001b[0m\n",
      "\u001b[0;31mKeyError\u001b[0m: 'Gbp Notional Amount'",
      "\nThe above exception was the direct cause of the following exception:\n",
      "\u001b[0;31mKeyError\u001b[0m                                  Traceback (most recent call last)",
      "\u001b[0;32m<ipython-input-20-822332aba560>\u001b[0m in \u001b[0;36m<module>\u001b[0;34m\u001b[0m\n\u001b[1;32m      1\u001b[0m \u001b[0;31m# next focus on zero value trades. report them, then drop them.\u001b[0m\u001b[0;34m\u001b[0m\u001b[0;34m\u001b[0m\u001b[0;34m\u001b[0m\u001b[0m\n\u001b[0;32m----> 2\u001b[0;31m \u001b[0mzero_value_records\u001b[0m \u001b[0;34m=\u001b[0m \u001b[0mtransactions\u001b[0m\u001b[0;34m[\u001b[0m\u001b[0mtransactions\u001b[0m\u001b[0;34m[\u001b[0m\u001b[0;34m'Gbp Notional Amount'\u001b[0m\u001b[0;34m]\u001b[0m \u001b[0;34m<\u001b[0m \u001b[0;36m0.01\u001b[0m\u001b[0;34m]\u001b[0m\u001b[0;34m\u001b[0m\u001b[0;34m\u001b[0m\u001b[0m\n\u001b[0m\u001b[1;32m      3\u001b[0m \u001b[0mzero_value_records\u001b[0m\u001b[0;34m.\u001b[0m\u001b[0mto_csv\u001b[0m\u001b[0;34m(\u001b[0m\u001b[0;34m'data/suspicious_records/zero_amount.csv'\u001b[0m\u001b[0;34m)\u001b[0m\u001b[0;34m\u001b[0m\u001b[0;34m\u001b[0m\u001b[0m\n\u001b[1;32m      4\u001b[0m \u001b[0mprint\u001b[0m\u001b[0;34m(\u001b[0m\u001b[0;34m'wrote'\u001b[0m\u001b[0;34m,\u001b[0m \u001b[0mzero_value_records\u001b[0m\u001b[0;34m.\u001b[0m\u001b[0mshape\u001b[0m\u001b[0;34m,\u001b[0m \u001b[0;34m'table of zero amount records to file.'\u001b[0m\u001b[0;34m)\u001b[0m\u001b[0;34m\u001b[0m\u001b[0;34m\u001b[0m\u001b[0m\n\u001b[1;32m      5\u001b[0m \u001b[0;31m# now drop them\u001b[0m\u001b[0;34m\u001b[0m\u001b[0;34m\u001b[0m\u001b[0;34m\u001b[0m\u001b[0m\n",
      "\u001b[0;32m~/.local/share/virtualenvs/assessment-yOBSkz2T/lib/python3.8/site-packages/pandas/core/frame.py\u001b[0m in \u001b[0;36m__getitem__\u001b[0;34m(self, key)\u001b[0m\n\u001b[1;32m   2900\u001b[0m             \u001b[0;32mif\u001b[0m \u001b[0mself\u001b[0m\u001b[0;34m.\u001b[0m\u001b[0mcolumns\u001b[0m\u001b[0;34m.\u001b[0m\u001b[0mnlevels\u001b[0m \u001b[0;34m>\u001b[0m \u001b[0;36m1\u001b[0m\u001b[0;34m:\u001b[0m\u001b[0;34m\u001b[0m\u001b[0;34m\u001b[0m\u001b[0m\n\u001b[1;32m   2901\u001b[0m                 \u001b[0;32mreturn\u001b[0m \u001b[0mself\u001b[0m\u001b[0;34m.\u001b[0m\u001b[0m_getitem_multilevel\u001b[0m\u001b[0;34m(\u001b[0m\u001b[0mkey\u001b[0m\u001b[0;34m)\u001b[0m\u001b[0;34m\u001b[0m\u001b[0;34m\u001b[0m\u001b[0m\n\u001b[0;32m-> 2902\u001b[0;31m             \u001b[0mindexer\u001b[0m \u001b[0;34m=\u001b[0m \u001b[0mself\u001b[0m\u001b[0;34m.\u001b[0m\u001b[0mcolumns\u001b[0m\u001b[0;34m.\u001b[0m\u001b[0mget_loc\u001b[0m\u001b[0;34m(\u001b[0m\u001b[0mkey\u001b[0m\u001b[0;34m)\u001b[0m\u001b[0;34m\u001b[0m\u001b[0;34m\u001b[0m\u001b[0m\n\u001b[0m\u001b[1;32m   2903\u001b[0m             \u001b[0;32mif\u001b[0m \u001b[0mis_integer\u001b[0m\u001b[0;34m(\u001b[0m\u001b[0mindexer\u001b[0m\u001b[0;34m)\u001b[0m\u001b[0;34m:\u001b[0m\u001b[0;34m\u001b[0m\u001b[0;34m\u001b[0m\u001b[0m\n\u001b[1;32m   2904\u001b[0m                 \u001b[0mindexer\u001b[0m \u001b[0;34m=\u001b[0m \u001b[0;34m[\u001b[0m\u001b[0mindexer\u001b[0m\u001b[0;34m]\u001b[0m\u001b[0;34m\u001b[0m\u001b[0;34m\u001b[0m\u001b[0m\n",
      "\u001b[0;32m~/.local/share/virtualenvs/assessment-yOBSkz2T/lib/python3.8/site-packages/pandas/core/indexes/base.py\u001b[0m in \u001b[0;36mget_loc\u001b[0;34m(self, key, method, tolerance)\u001b[0m\n\u001b[1;32m   2891\u001b[0m                 \u001b[0;32mreturn\u001b[0m \u001b[0mself\u001b[0m\u001b[0;34m.\u001b[0m\u001b[0m_engine\u001b[0m\u001b[0;34m.\u001b[0m\u001b[0mget_loc\u001b[0m\u001b[0;34m(\u001b[0m\u001b[0mcasted_key\u001b[0m\u001b[0;34m)\u001b[0m\u001b[0;34m\u001b[0m\u001b[0;34m\u001b[0m\u001b[0m\n\u001b[1;32m   2892\u001b[0m             \u001b[0;32mexcept\u001b[0m \u001b[0mKeyError\u001b[0m \u001b[0;32mas\u001b[0m \u001b[0merr\u001b[0m\u001b[0;34m:\u001b[0m\u001b[0;34m\u001b[0m\u001b[0;34m\u001b[0m\u001b[0m\n\u001b[0;32m-> 2893\u001b[0;31m                 \u001b[0;32mraise\u001b[0m \u001b[0mKeyError\u001b[0m\u001b[0;34m(\u001b[0m\u001b[0mkey\u001b[0m\u001b[0;34m)\u001b[0m \u001b[0;32mfrom\u001b[0m \u001b[0merr\u001b[0m\u001b[0;34m\u001b[0m\u001b[0;34m\u001b[0m\u001b[0m\n\u001b[0m\u001b[1;32m   2894\u001b[0m \u001b[0;34m\u001b[0m\u001b[0m\n\u001b[1;32m   2895\u001b[0m         \u001b[0;32mif\u001b[0m \u001b[0mtolerance\u001b[0m \u001b[0;32mis\u001b[0m \u001b[0;32mnot\u001b[0m \u001b[0;32mNone\u001b[0m\u001b[0;34m:\u001b[0m\u001b[0;34m\u001b[0m\u001b[0;34m\u001b[0m\u001b[0m\n",
      "\u001b[0;31mKeyError\u001b[0m: 'Gbp Notional Amount'"
     ]
    }
   ],
   "source": [
    "# next focus on zero value trades. report them, then drop them. \n",
    "zero_value_records = transactions[transactions['Gbp Notional Amount'] < 0.01]\n",
    "zero_value_records.to_csv('data/suspicious_records/zero_amount.csv') \n",
    "print('wrote', zero_value_records.shape, 'table of zero amount records to file.')\n",
    "# now drop them\n",
    "transactions = transactions[transactions['Gbp Notional Amount'] >= 0.01]"
   ]
  },
  {
   "cell_type": "code",
   "execution_count": 10,
   "metadata": {},
   "outputs": [
    {
     "name": "stdout",
     "output_type": "stream",
     "text": [
      "considering only (30284, 14) full records from now on, containing 169 suspicous records\n"
     ]
    }
   ],
   "source": [
    "print('considering only', transactions.shape, 'full records from now on, containing', sum(transactions['Flag']), 'suspicous records')"
   ]
  },
  {
   "cell_type": "markdown",
   "metadata": {},
   "source": [
    "# featurising \n",
    "convert meaningful, complete fields to features for machine learning"
   ]
  },
  {
   "cell_type": "code",
   "execution_count": 11,
   "metadata": {},
   "outputs": [
    {
     "data": {
      "image/png": "[encoded data removed]",
      "text/plain": [
       "<Figure size 1224x432 with 1 Axes>"
      ]
     },
     "metadata": {
      "needs_background": "light"
     },
     "output_type": "display_data"
    }
   ],
   "source": [
    "# augment by adding log_amount column\n",
    "transactions['gbp_log_amount'] = np.log10(transactions['Gbp Notional Amount'])\n",
    "transactions['gbp_log_amount'].describe()\n",
    "transactions['gbp_log_amount'].plot.hist(title='log_10 (notional) amounts)')\n",
    "plt.show()"
   ]
  },
  {
   "cell_type": "code",
   "execution_count": 12,
   "metadata": {},
   "outputs": [],
   "source": [
    "transactions.drop(columns='Gbp Notional Amount', inplace=True)  # superceded by log of gbp."
   ]
  },
  {
   "cell_type": "code",
   "execution_count": 13,
   "metadata": {},
   "outputs": [],
   "source": [
    "# convert from notional amount currency to a simplified currency_feature.\n",
    "transactions['Notional Amount Currency'].sort_values().unique()\n",
    "currency_to_currency_simplified = {\n",
    "    'AED': 'AED',\n",
    "    'AUD': 'AUD',\n",
    "    'BRL': 'other',\n",
    "    'CAD': 'CAD',\n",
    "    'CHF': 'other',\n",
    "    'CNH': 'other',\n",
    "    'CZK': 'other',\n",
    "    'DKK': 'DKK',\n",
    "    'EUR': 'EUR',\n",
    "    'HKD': 'other',\n",
    "    'HUF': 'other',\n",
    "    'ILS': 'other',\n",
    "    'INR': 'other',\n",
    "    'JPY': 'JPY',\n",
    "    'MAD': 'other',\n",
    "    'MXN': 'MXN',\n",
    "    'NOK': 'other',\n",
    "    'NZD': 'NZD',\n",
    "    'PLN': 'PLN',\n",
    "    'RUB': 'other',\n",
    "    'SEK': 'SEK',\n",
    "    'SGD': 'other',\n",
    "    'THB': 'other',\n",
    "    'TRY': 'other',\n",
    "    'USD': 'USD',\n",
    "    'ZAR': 'ZAR',\n",
    "}\n",
    "temp_df = pd.DataFrame({'currency_all':currency_to_currency_simplified.keys(), \n",
    "                        'currency_reduced': currency_to_currency_simplified.values()})\n",
    "transactions = pd.merge(transactions, temp_df, left_on='Notional Amount Currency', right_on='currency_all', how='left')\\\n",
    "    .drop(columns=['Notional Amount Currency', 'currency_all', ])\n"
   ]
  },
  {
   "cell_type": "markdown",
   "metadata": {},
   "source": [
    "# 2.0 client score\n",
    "- feature idea: consider each client's number of previous suspicious transactions.\n",
    "- must make sure to only determine a client's propensity for being flagged from training and validation data, and not from validation (holdout) data. \n",
    "- skipped for the sake of time\n",
    "\n"
   ]
  },
  {
   "cell_type": "code",
   "execution_count": 14,
   "metadata": {},
   "outputs": [
    {
     "data": {
      "image/png": "[encoded data removed]",
      "text/plain": [
       "<Figure size 1224x432 with 1 Axes>"
      ]
     },
     "metadata": {
      "needs_background": "light"
     },
     "output_type": "display_data"
    }
   ],
   "source": [
    "clients = pd.Series(transactions['Client Name'].unique()).sort_values()\n",
    "num_trans_client = transactions['Client Name'].value_counts().sort_index()\n",
    "num_flags_client = transactions[transactions['Flag']==1]['Client Name'].value_counts().sort_index()\n",
    "\n",
    "client_summary = pd.DataFrame({'num_flags': num_flags_client, 'num_transactions': num_trans_client}, index=clients)\n",
    "client_summary.fillna(value=0, inplace=True)\n",
    "client_summary['ratio'] = client_summary['num_flags']/client_summary['num_transactions']\n",
    "client_summary['ratio'].hist(title='ratio of flagged transactions')\n",
    "client_summary['client_name'] = client_summary.index\n",
    "plt.show()"
   ]
  },
  {
   "cell_type": "code",
   "execution_count": 15,
   "metadata": {},
   "outputs": [
    {
     "data": {
      "text/html": [
       "<div>\n",
       "<style scoped>\n",
       "    .dataframe tbody tr th:only-of-type {\n",
       "        vertical-align: middle;\n",
       "    }\n",
       "\n",
       "    .dataframe tbody tr th {\n",
       "        vertical-align: top;\n",
       "    }\n",
       "\n",
       "    .dataframe thead th {\n",
       "        text-align: right;\n",
       "    }\n",
       "</style>\n",
       "<table border=\"1\" class=\"dataframe\">\n",
       "  <thead>\n",
       "    <tr style=\"text-align: right;\">\n",
       "      <th></th>\n",
       "      <th>num_flags</th>\n",
       "      <th>num_transactions</th>\n",
       "      <th>ratio</th>\n",
       "      <th>client_name</th>\n",
       "    </tr>\n",
       "  </thead>\n",
       "  <tbody>\n",
       "    <tr>\n",
       "      <th>Client_0</th>\n",
       "      <td>4.0</td>\n",
       "      <td>5</td>\n",
       "      <td>0.800000</td>\n",
       "      <td>Client_0</td>\n",
       "    </tr>\n",
       "    <tr>\n",
       "      <th>Client_1</th>\n",
       "      <td>1.0</td>\n",
       "      <td>47</td>\n",
       "      <td>0.021277</td>\n",
       "      <td>Client_1</td>\n",
       "    </tr>\n",
       "    <tr>\n",
       "      <th>Client_10</th>\n",
       "      <td>0.0</td>\n",
       "      <td>18</td>\n",
       "      <td>0.000000</td>\n",
       "      <td>Client_10</td>\n",
       "    </tr>\n",
       "    <tr>\n",
       "      <th>Client_100</th>\n",
       "      <td>0.0</td>\n",
       "      <td>89</td>\n",
       "      <td>0.000000</td>\n",
       "      <td>Client_100</td>\n",
       "    </tr>\n",
       "    <tr>\n",
       "      <th>Client_101</th>\n",
       "      <td>5.0</td>\n",
       "      <td>122</td>\n",
       "      <td>0.040984</td>\n",
       "      <td>Client_101</td>\n",
       "    </tr>\n",
       "    <tr>\n",
       "      <th>...</th>\n",
       "      <td>...</td>\n",
       "      <td>...</td>\n",
       "      <td>...</td>\n",
       "      <td>...</td>\n",
       "    </tr>\n",
       "    <tr>\n",
       "      <th>Client_95</th>\n",
       "      <td>0.0</td>\n",
       "      <td>20</td>\n",
       "      <td>0.000000</td>\n",
       "      <td>Client_95</td>\n",
       "    </tr>\n",
       "    <tr>\n",
       "      <th>Client_96</th>\n",
       "      <td>0.0</td>\n",
       "      <td>257</td>\n",
       "      <td>0.000000</td>\n",
       "      <td>Client_96</td>\n",
       "    </tr>\n",
       "    <tr>\n",
       "      <th>Client_97</th>\n",
       "      <td>0.0</td>\n",
       "      <td>13</td>\n",
       "      <td>0.000000</td>\n",
       "      <td>Client_97</td>\n",
       "    </tr>\n",
       "    <tr>\n",
       "      <th>Client_98</th>\n",
       "      <td>0.0</td>\n",
       "      <td>23</td>\n",
       "      <td>0.000000</td>\n",
       "      <td>Client_98</td>\n",
       "    </tr>\n",
       "    <tr>\n",
       "      <th>Client_99</th>\n",
       "      <td>0.0</td>\n",
       "      <td>46</td>\n",
       "      <td>0.000000</td>\n",
       "      <td>Client_99</td>\n",
       "    </tr>\n",
       "  </tbody>\n",
       "</table>\n",
       "<p>532 rows × 4 columns</p>\n",
       "</div>"
      ],
      "text/plain": [
       "            num_flags  num_transactions     ratio client_name\n",
       "Client_0          4.0                 5  0.800000    Client_0\n",
       "Client_1          1.0                47  0.021277    Client_1\n",
       "Client_10         0.0                18  0.000000   Client_10\n",
       "Client_100        0.0                89  0.000000  Client_100\n",
       "Client_101        5.0               122  0.040984  Client_101\n",
       "...               ...               ...       ...         ...\n",
       "Client_95         0.0                20  0.000000   Client_95\n",
       "Client_96         0.0               257  0.000000   Client_96\n",
       "Client_97         0.0                13  0.000000   Client_97\n",
       "Client_98         0.0                23  0.000000   Client_98\n",
       "Client_99         0.0                46  0.000000   Client_99\n",
       "\n",
       "[532 rows x 4 columns]"
      ]
     },
     "execution_count": 15,
     "metadata": {},
     "output_type": "execute_result"
    }
   ],
   "source": [
    "client_summary"
   ]
  },
  {
   "cell_type": "code",
   "execution_count": 16,
   "metadata": {},
   "outputs": [
    {
     "data": {
      "text/plain": [
       "<AxesSubplot:title={'center':'number of transactions per client distribution'}, ylabel='Frequency'>"
      ]
     },
     "execution_count": 16,
     "metadata": {},
     "output_type": "execute_result"
    },
    {
     "data": {
      "image/png": "[encoded data removed]",
      "text/plain": [
       "<Figure size 1224x432 with 1 Axes>"
      ]
     },
     "metadata": {
      "needs_background": "light"
     },
     "output_type": "display_data"
    }
   ],
   "source": [
    "client_summary['num_transactions'].plot.hist(bins=100, title=\"number of transactions per client distribution\")"
   ]
  },
  {
   "cell_type": "code",
   "execution_count": 17,
   "metadata": {},
   "outputs": [
    {
     "data": {
      "text/html": [
       "<div>\n",
       "<style scoped>\n",
       "    .dataframe tbody tr th:only-of-type {\n",
       "        vertical-align: middle;\n",
       "    }\n",
       "\n",
       "    .dataframe tbody tr th {\n",
       "        vertical-align: top;\n",
       "    }\n",
       "\n",
       "    .dataframe thead th {\n",
       "        text-align: right;\n",
       "    }\n",
       "</style>\n",
       "<table border=\"1\" class=\"dataframe\">\n",
       "  <thead>\n",
       "    <tr style=\"text-align: right;\">\n",
       "      <th></th>\n",
       "      <th>Source System</th>\n",
       "      <th>CountryCodeOffice</th>\n",
       "      <th>ML Risk Rating</th>\n",
       "      <th>Flag</th>\n",
       "      <th>product_type</th>\n",
       "      <th>date</th>\n",
       "      <th>month</th>\n",
       "      <th>is_month_start</th>\n",
       "      <th>is_month_end</th>\n",
       "      <th>weekday</th>\n",
       "      <th>quarter</th>\n",
       "      <th>gbp_log_amount</th>\n",
       "      <th>currency_reduced</th>\n",
       "      <th>suspicious_client</th>\n",
       "      <th>trusted_client</th>\n",
       "      <th>client_name</th>\n",
       "      <th>new_client</th>\n",
       "      <th>frequent_client</th>\n",
       "    </tr>\n",
       "  </thead>\n",
       "  <tbody>\n",
       "    <tr>\n",
       "      <th>0</th>\n",
       "      <td>alpha</td>\n",
       "      <td>GB</td>\n",
       "      <td>M</td>\n",
       "      <td>0</td>\n",
       "      <td>fx_other</td>\n",
       "      <td>2018-12-03</td>\n",
       "      <td>12</td>\n",
       "      <td>False</td>\n",
       "      <td>False</td>\n",
       "      <td>0</td>\n",
       "      <td>4</td>\n",
       "      <td>5.232433</td>\n",
       "      <td>USD</td>\n",
       "      <td>False</td>\n",
       "      <td>False</td>\n",
       "      <td>Client_43</td>\n",
       "      <td>False</td>\n",
       "      <td>False</td>\n",
       "    </tr>\n",
       "    <tr>\n",
       "      <th>1</th>\n",
       "      <td>alpha</td>\n",
       "      <td>GB</td>\n",
       "      <td>L</td>\n",
       "      <td>0</td>\n",
       "      <td>fx_spots</td>\n",
       "      <td>2018-12-03</td>\n",
       "      <td>12</td>\n",
       "      <td>False</td>\n",
       "      <td>False</td>\n",
       "      <td>0</td>\n",
       "      <td>4</td>\n",
       "      <td>6.495379</td>\n",
       "      <td>other</td>\n",
       "      <td>False</td>\n",
       "      <td>False</td>\n",
       "      <td>Client_29</td>\n",
       "      <td>True</td>\n",
       "      <td>False</td>\n",
       "    </tr>\n",
       "    <tr>\n",
       "      <th>2</th>\n",
       "      <td>alpha</td>\n",
       "      <td>GB</td>\n",
       "      <td>M</td>\n",
       "      <td>0</td>\n",
       "      <td>fx_forwards</td>\n",
       "      <td>2018-12-03</td>\n",
       "      <td>12</td>\n",
       "      <td>False</td>\n",
       "      <td>False</td>\n",
       "      <td>0</td>\n",
       "      <td>4</td>\n",
       "      <td>5.913098</td>\n",
       "      <td>EUR</td>\n",
       "      <td>False</td>\n",
       "      <td>False</td>\n",
       "      <td>Client_42</td>\n",
       "      <td>True</td>\n",
       "      <td>False</td>\n",
       "    </tr>\n",
       "    <tr>\n",
       "      <th>3</th>\n",
       "      <td>alpha</td>\n",
       "      <td>GB</td>\n",
       "      <td>L</td>\n",
       "      <td>0</td>\n",
       "      <td>fx_forwards</td>\n",
       "      <td>2018-12-03</td>\n",
       "      <td>12</td>\n",
       "      <td>False</td>\n",
       "      <td>False</td>\n",
       "      <td>0</td>\n",
       "      <td>4</td>\n",
       "      <td>4.858852</td>\n",
       "      <td>USD</td>\n",
       "      <td>False</td>\n",
       "      <td>False</td>\n",
       "      <td>Client_51</td>\n",
       "      <td>True</td>\n",
       "      <td>False</td>\n",
       "    </tr>\n",
       "    <tr>\n",
       "      <th>4</th>\n",
       "      <td>alpha</td>\n",
       "      <td>GB</td>\n",
       "      <td>M</td>\n",
       "      <td>0</td>\n",
       "      <td>fx_forwards</td>\n",
       "      <td>2018-12-03</td>\n",
       "      <td>12</td>\n",
       "      <td>False</td>\n",
       "      <td>False</td>\n",
       "      <td>0</td>\n",
       "      <td>4</td>\n",
       "      <td>4.932179</td>\n",
       "      <td>USD</td>\n",
       "      <td>False</td>\n",
       "      <td>False</td>\n",
       "      <td>Client_51</td>\n",
       "      <td>True</td>\n",
       "      <td>False</td>\n",
       "    </tr>\n",
       "  </tbody>\n",
       "</table>\n",
       "</div>"
      ],
      "text/plain": [
       "  Source System CountryCodeOffice ML Risk Rating  Flag product_type  \\\n",
       "0         alpha                GB              M     0     fx_other   \n",
       "1         alpha                GB              L     0     fx_spots   \n",
       "2         alpha                GB              M     0  fx_forwards   \n",
       "3         alpha                GB              L     0  fx_forwards   \n",
       "4         alpha                GB              M     0  fx_forwards   \n",
       "\n",
       "        date  month  is_month_start  is_month_end  weekday  quarter  \\\n",
       "0 2018-12-03     12           False         False        0        4   \n",
       "1 2018-12-03     12           False         False        0        4   \n",
       "2 2018-12-03     12           False         False        0        4   \n",
       "3 2018-12-03     12           False         False        0        4   \n",
       "4 2018-12-03     12           False         False        0        4   \n",
       "\n",
       "   gbp_log_amount currency_reduced  suspicious_client  trusted_client  \\\n",
       "0        5.232433              USD              False           False   \n",
       "1        6.495379            other              False           False   \n",
       "2        5.913098              EUR              False           False   \n",
       "3        4.858852              USD              False           False   \n",
       "4        4.932179              USD              False           False   \n",
       "\n",
       "  client_name  new_client  frequent_client  \n",
       "0   Client_43       False            False  \n",
       "1   Client_29        True            False  \n",
       "2   Client_42        True            False  \n",
       "3   Client_51        True            False  \n",
       "4   Client_51        True            False  "
      ]
     },
     "execution_count": 17,
     "metadata": {},
     "output_type": "execute_result"
    }
   ],
   "source": [
    "# mark whether client has made many trades before or not\n",
    "client_summary['new_client'] = client_summary['num_transactions'] < 20\n",
    "client_summary['frequent_client'] = client_summary['num_transactions'] >100\n",
    "\n",
    "\n",
    "# plot of ratio shows majority of clients have not been tagged as suspicious (ratio=0)\n",
    "client_summary['suspicious_client'] =\\\n",
    "    ((client_summary['ratio']>0.6) & (client_summary['num_transactions']>5)) \n",
    "client_summary['trusted_client'] = (client_summary['ratio']<0.01) & (client_summary['num_transactions']>99)\n",
    "client_summary['client_name'] = client_summary.index\n",
    "\n",
    "\n",
    "transactions = pd.merge(transactions, \n",
    "                        client_summary[['suspicious_client', 'trusted_client', 'client_name', 'new_client', 'frequent_client' ]], \n",
    "                        left_on='Client Name', right_on='client_name', how='left')\\\n",
    "    .drop(columns=['Client Name'])\n",
    "transactions.head()"
   ]
  },
  {
   "cell_type": "code",
   "execution_count": 18,
   "metadata": {},
   "outputs": [
    {
     "data": {
      "text/plain": [
       "Source System                object\n",
       "CountryCodeOffice            object\n",
       "ML Risk Rating               object\n",
       "Flag                          int64\n",
       "product_type                 object\n",
       "date                 datetime64[ns]\n",
       "month                         int64\n",
       "is_month_start                 bool\n",
       "is_month_end                   bool\n",
       "weekday                       int64\n",
       "quarter                       int64\n",
       "gbp_log_amount              float64\n",
       "currency_reduced             object\n",
       "suspicious_client              bool\n",
       "trusted_client                 bool\n",
       "client_name                  object\n",
       "new_client                     bool\n",
       "frequent_client                bool\n",
       "dtype: object"
      ]
     },
     "execution_count": 18,
     "metadata": {},
     "output_type": "execute_result"
    }
   ],
   "source": [
    "transactions.dtypes"
   ]
  },
  {
   "cell_type": "code",
   "execution_count": 19,
   "metadata": {},
   "outputs": [],
   "source": [
    "transactions.to_parquet('data/data_products/suspicious_transactions_dataset_201812-202001_cleaned.parquet')"
   ]
  },
  {
   "cell_type": "markdown",
   "metadata": {},
   "source": [
    "# next step:\n",
    "see notebook `case_study_modelling.ipynb`"
   ]
  },
  {
   "cell_type": "code",
   "execution_count": null,
   "metadata": {},
   "outputs": [],
   "source": []
  }
 ],
 "metadata": {
  "kernelspec": {
   "display_name": "Python 3",
   "language": "python",
   "name": "python3"
  },
  "language_info": {
   "codemirror_mode": {
    "name": "ipython",
    "version": 3
   },
   "file_extension": ".py",
   "mimetype": "text/x-python",
   "name": "python",
   "nbconvert_exporter": "python",
   "pygments_lexer": "ipython3",
   "version": "3.8.5"
  }
 },
 "nbformat": 4,
 "nbformat_minor": 4
}
