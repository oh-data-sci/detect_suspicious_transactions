{
 "cells": [
  {
   "cell_type": "code",
   "execution_count": 27,
   "metadata": {},
   "outputs": [],
   "source": [
    "import numpy as np\n",
    "import pandas as pd\n",
    "import pickle\n",
    "from sklearn.ensemble import RandomForestClassifier\n",
    "from sklearn.metrics import f1_score, precision_score, classification_report, confusion_matrix, recall_score, plot_precision_recall_curve\n",
    "from sklearn.pipeline import Pipeline\n"
   ]
  },
  {
   "cell_type": "code",
   "execution_count": 19,
   "metadata": {},
   "outputs": [],
   "source": [
    "feature_columns_catg = [\n",
    "    'Source System',\n",
    "    'CountryCodeOffice',\n",
    "    'ML Risk Rating',\n",
    "    'product_type',\n",
    "    'currency_reduced',\n",
    "]\n",
    "feature_columns_bool = [\n",
    "    'suspicious_client',\n",
    "    'trusted_client',\n",
    "    'new_client', \n",
    "    'frequent_client', \n",
    "    'is_month_start',\n",
    "    'is_month_end',\n",
    "]\n",
    "feature_column_cont = [\n",
    "    'month',\n",
    "    'weekday',\n",
    "    'quarter',\n",
    "    'gbp_log_amount'\n",
    "]\n",
    "outcome_column = 'Flag'\n"
   ]
  },
  {
   "cell_type": "code",
   "execution_count": 20,
   "metadata": {},
   "outputs": [],
   "source": [
    "# fetch testing data from deep storage\n",
    "testing_df = pd.read_parquet('data/performance/holdout_data.parquet')"
   ]
  },
  {
   "cell_type": "code",
   "execution_count": 21,
   "metadata": {},
   "outputs": [],
   "source": [
    "# load model\n",
    "encoder_catg = pickle.load(open('model/encoder_catg.pckl',      'rb'))\n",
    "encoder_cont = pickle.load(open('model/encoder_cont.pckl',      'rb'))\n",
    "classifier   = pickle.load(open('model/random_forest_clf.pckl', 'rb'))"
   ]
  },
  {
   "cell_type": "code",
   "execution_count": 22,
   "metadata": {},
   "outputs": [],
   "source": [
    "X_catg_true = encoder_catg.transform(testing_df[feature_columns_catg]).toarray()\n",
    "X_cont_true = encoder_cont.transform(np.array(testing_df[feature_column_cont]))\n",
    "X_true = np.concatenate([X_catg_true[:],X_cont_true[:],testing_df[feature_columns_bool]], axis=1)\n",
    "y_true = testing_df[outcome_column]"
   ]
  },
  {
   "cell_type": "code",
   "execution_count": 28,
   "metadata": {},
   "outputs": [
    {
     "name": "stdout",
     "output_type": "stream",
     "text": [
      "recall 0.17647058823529413\n",
      "precision 0.375\n"
     ]
    }
   ],
   "source": [
    "print('recall:', recall_score(y_true, classifier.predict(X_true)))"
   ]
  },
  {
   "cell_type": "code",
   "execution_count": 24,
   "metadata": {},
   "outputs": [
    {
     "data": {
      "text/plain": [
       "array([[6013,   10],\n",
       "       [  28,    6]])"
      ]
     },
     "execution_count": 24,
     "metadata": {},
     "output_type": "execute_result"
    }
   ],
   "source": [
    "confusion_matrix(y_true, classifier.predict(X_true))"
   ]
  },
  {
   "cell_type": "code",
   "execution_count": 16,
   "metadata": {},
   "outputs": [
    {
     "data": {
      "text/plain": [
       "<sklearn.metrics._plot.precision_recall_curve.PrecisionRecallDisplay at 0x13ec9a130>"
      ]
     },
     "execution_count": 16,
     "metadata": {},
     "output_type": "execute_result"
    },
    {
     "data": {
      "image/png": "[encoded data removed]",
      "text/plain": [
       "<Figure size 432x288 with 1 Axes>"
      ]
     },
     "metadata": {
      "needs_background": "light"
     },
     "output_type": "display_data"
    }
   ],
   "source": [
    "plot_precision_recall_curve(classifier,X_true,y_true)"
   ]
  },
  {
   "cell_type": "code",
   "execution_count": 29,
   "metadata": {},
   "outputs": [
    {
     "name": "stdout",
     "output_type": "stream",
     "text": [
      "precision 0.375\n"
     ]
    }
   ],
   "source": [
    "print('precision', precision_score(y_true, classifier.predict(X_true)))"
   ]
  },
  {
   "cell_type": "code",
   "execution_count": null,
   "metadata": {},
   "outputs": [],
   "source": []
  }
 ],
 "metadata": {
  "kernelspec": {
   "display_name": "Python 3",
   "language": "python",
   "name": "python3"
  },
  "language_info": {
   "codemirror_mode": {
    "name": "ipython",
    "version": 3
   },
   "file_extension": ".py",
   "mimetype": "text/x-python",
   "name": "python",
   "nbconvert_exporter": "python",
   "pygments_lexer": "ipython3",
   "version": "3.8.5"
  }
 },
 "nbformat": 4,
 "nbformat_minor": 4
}
